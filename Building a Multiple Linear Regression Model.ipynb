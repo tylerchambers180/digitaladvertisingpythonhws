{
 "cells": [
  {
   "cell_type": "markdown",
   "metadata": {},
   "source": [
    "# Building a Multiple Linear Regression model to analyze FaceBook Advertisement Data\n",
    "## Created by Tyler Chambers\n",
    "### Created for APRD6432: Digital Advertising"
   ]
  },
  {
   "cell_type": "markdown",
   "metadata": {},
   "source": [
    "## Project Summary"
   ]
  },
  {
   "cell_type": "markdown",
   "metadata": {},
   "source": [
    "In this project we are developing a model to look at a set of advertisements ran on FaceBook. Our goal is to build a Multiple Linear Regression (MLR) model that takes several of our advertising variables and see how it impacts our advertising spend. "
   ]
  },
  {
   "cell_type": "markdown",
   "metadata": {},
   "source": [
    "## Setting up our environment and cleaning the data"
   ]
  },
  {
   "cell_type": "code",
   "execution_count": 1,
   "metadata": {},
   "outputs": [],
   "source": [
    "#Importing package for use later\n",
    "import pandas as pd\n",
    "import seaborn as sn\n",
    "import statsmodels.api as sm\n",
    "\n",
    "#Importing the csv file, you can download it also from my github\n",
    "Filename = 'Travel Pony Facebook.csv'\n",
    "#Putting the file into a dataframe called tpf\n",
    "tpf = pd.read_csv(Filename)\n",
    "\n",
    "# Data Cleaning\n",
    "\n",
    "#We need to remove the rows that have an Amount Spent of $0\n",
    "tpf = tpf[tpf['Amount Spent (USD)'] != 0]"
   ]
  },
  {
   "cell_type": "markdown",
   "metadata": {},
   "source": [
    "## Building a Histogram to get a sense for the data"
   ]
  },
  {
   "cell_type": "code",
   "execution_count": 2,
   "metadata": {},
   "outputs": [
    {
     "name": "stderr",
     "output_type": "stream",
     "text": [
      "/anaconda3/lib/python3.6/site-packages/matplotlib/axes/_axes.py:6462: UserWarning: The 'normed' kwarg is deprecated, and has been replaced by the 'density' kwarg.\n",
      "  warnings.warn(\"The 'normed' kwarg is deprecated, and has been \"\n"
     ]
    },
    {
     "data": {
      "text/plain": [
       "<matplotlib.axes._subplots.AxesSubplot at 0x10f082470>"
      ]
     },
     "execution_count": 2,
     "metadata": {},
     "output_type": "execute_result"
    },
    {
     "data": {
      "image/png": "[encoded data removed]",
      "text/plain": [
       "<Figure size 432x288 with 1 Axes>"
      ]
     },
     "metadata": {},
     "output_type": "display_data"
    }
   ],
   "source": [
    "#We will output the histogram using seaborn as sn, setting the style to make it more readable\n",
    "sn.set_style('darkgrid')\n",
    "sn.distplot(tpf['Amount Spent (USD)'])\n",
    "#It is easy to see the exponential relationship present in this data"
   ]
  },
  {
   "cell_type": "markdown",
   "metadata": {},
   "source": [
    "## Setting up and running the MLR model"
   ]
  },
  {
   "cell_type": "code",
   "execution_count": 3,
   "metadata": {},
   "outputs": [
    {
     "name": "stdout",
     "output_type": "stream",
     "text": [
      "\n",
      "Multiple Linear Regression Using OLS\n",
      "-------------------------------------\n",
      "                            OLS Regression Results                            \n",
      "==============================================================================\n",
      "Dep. Variable:     Amount Spent (USD)   R-squared:                       0.941\n",
      "Model:                            OLS   Adj. R-squared:                  0.941\n",
      "Method:                 Least Squares   F-statistic:                     2211.\n",
      "Date:                Fri, 12 Oct 2018   Prob (F-statistic):               0.00\n",
      "Time:                        20:42:49   Log-Likelihood:                -6605.9\n",
      "No. Observations:                1802   AIC:                         1.324e+04\n",
      "Df Residuals:                    1789   BIC:                         1.331e+04\n",
      "Df Model:                          13                                         \n",
      "Covariance Type:            nonrobust                                         \n",
      "===================================================================================\n",
      "                      coef    std err          t      P>|t|      [0.025      0.975]\n",
      "-----------------------------------------------------------------------------------\n",
      "Campaign_Code       0.0109      0.002      4.908      0.000       0.007       0.015\n",
      "Reach               0.0034      0.000     22.479      0.000       0.003       0.004\n",
      "Frequency          -2.7259      0.510     -5.341      0.000      -3.727      -1.725\n",
      "Impressions        -0.0012   5.82e-05    -20.650      0.000      -0.001      -0.001\n",
      "Clicks             -0.1577      0.112     -1.410      0.159      -0.377       0.062\n",
      "Unique Clicks       0.3058      0.127      2.413      0.016       0.057       0.554\n",
      "Page Likes         23.0569      9.517      2.423      0.016       4.391      41.722\n",
      "Page Engagement   -19.7428      9.513     -2.075      0.038     -38.401      -1.084\n",
      "Post Engagement    16.7998      7.929      2.119      0.034       1.250      32.350\n",
      "Post Likes          2.3358      1.591      1.469      0.142      -0.784       5.455\n",
      "Post Comments       3.4252      1.654      2.071      0.038       0.182       6.669\n",
      "Post Shares         4.5029      1.614      2.790      0.005       1.338       7.668\n",
      "Photo Views         3.1634      1.589      1.991      0.047       0.047       6.279\n",
      "Website Clicks      3.3725      1.589      2.123      0.034       0.256       6.489\n",
      "==============================================================================\n",
      "Omnibus:                      926.260   Durbin-Watson:                   1.849\n",
      "Prob(Omnibus):                  0.000   Jarque-Bera (JB):            27449.152\n",
      "Skew:                           1.822   Prob(JB):                         0.00\n",
      "Kurtosis:                      21.770   Cond. No.                     8.13e+18\n",
      "==============================================================================\n",
      "\n",
      "Warnings:\n",
      "[1] Standard Errors assume that the covariance matrix of the errors is correctly specified.\n",
      "[2] The smallest eigenvalue is 2.92e-26. This might indicate that there are\n",
      "strong multicollinearity problems or that the design matrix is singular.\n"
     ]
    }
   ],
   "source": [
    "#First we need to set up campaigns as a categorical variable\n",
    "tpf['Campaign Name'] = tpf['Campaign Name'].astype('category')\n",
    "tpf['Campaign_Code'] = tpf['Campaign Name'].cat.codes\n",
    "\n",
    "#Next we need to assign our variables \n",
    "X = tpf[['Campaign_Code', 'Reach', 'Frequency', 'Impressions', 'Clicks', 'Unique Clicks', 'Page Likes', 'Page Engagement', 'Post Engagement', 'Post Likes', 'Post Comments', 'Post Shares', 'Photo Views', 'Website Clicks']]\n",
    "Y = tpf[['Amount Spent (USD)']]\n",
    "\n",
    "#Now we are running the actual regression, we saved the regression as MLR \n",
    "print('\\nMultiple Linear Regression Using OLS')\n",
    "print('-------------------------------------')\n",
    "MLR = sm.OLS(Y, X).fit()\n",
    "print(MLR.summary())"
   ]
  },
  {
   "cell_type": "markdown",
   "metadata": {},
   "source": [
    "We can see from the above output that 'Page Likes' and 'Post Engagement' have strong positive coefficients when compared to 'Amount Spent', showing that increases in these values drastically effects our advertising expenditure. Interestingly, this model shows that 'Page Engagement' actually has a strongly negative affect on 'Amount Spent', perhaps indicating that campaigns that recieved heavy page engagement cost us less. A possible explanation is that these campaigns hit their conversion goals sooner, and thus resulted in a lower advertising spend. Only two variables appear insignificant at the .05 alpha level, those being 'Post Likes' and 'Clicks'. Finally it is worth noting that this model has elements of mulitcollinearity present, and thus future explorations might be better off with fewer independent variables."
   ]
  },
  {
   "cell_type": "code",
   "execution_count": null,
   "metadata": {},
   "outputs": [],
   "source": []
  }
 ],
 "metadata": {
  "kernelspec": {
   "display_name": "Python 3",
   "language": "python",
   "name": "python3"
  },
  "language_info": {
   "codemirror_mode": {
    "name": "ipython",
    "version": 3
   },
   "file_extension": ".py",
   "mimetype": "text/x-python",
   "name": "python",
   "nbconvert_exporter": "python",
   "pygments_lexer": "ipython3",
   "version": "3.6.5"
  }
 },
 "nbformat": 4,
 "nbformat_minor": 2
}
