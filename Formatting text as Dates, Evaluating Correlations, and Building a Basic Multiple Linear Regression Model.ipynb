{
 "cells": [
  {
   "cell_type": "markdown",
   "metadata": {},
   "source": [
    "# Working with Dates, Evaluating Correlations and Developing a Basic Multiple Linear Regression Model on FaceBook Advertising Data\n",
    "## By Tyler Chambers\n",
    "### Created for APRD6432: Digital Advertising"
   ]
  },
  {
   "cell_type": "markdown",
   "metadata": {},
   "source": [
    "## Project Summary"
   ]
  },
  {
   "cell_type": "markdown",
   "metadata": {},
   "source": [
    "In this code, we will be taking a set of FaceBook advertising data and gleaning a few insights from it. First we need to add in a new column to our dataframe to evaluate 'Cost per Impression.' Next we reformat text into dates so we can look at a day of the week's affect on our new 'Cost per Impression' metric. After that, we check out a few variables relationship to 'Amount Spent' by evaluating their correlations. Finally we build a very basic Multiple Linear Regression model to evaluate 'Reach' and 'Frequency' impact on 'Unique Clicks'."
   ]
  },
  {
   "cell_type": "markdown",
   "metadata": {},
   "source": [
    "## Setting up our Environment and Creating our 'Cost per Impression' Column"
   ]
  },
  {
   "cell_type": "code",
   "execution_count": 24,
   "metadata": {},
   "outputs": [],
   "source": [
    "#importing packages for later use\n",
    "import pandas\n",
    "from datetime import datetime\n",
    "import calendar\n",
    "import statsmodels.api as sm \n",
    "#Reading in the csv file and saving it as tpf\n",
    "Filename = ('Travel Pony Facebook.csv')\n",
    "tpf = pandas.read_csv(Filename)\n",
    "\n",
    "#Initializing the new column cost per impression\n",
    "tpf['Cost per Impression'] = 0\n",
    "\n",
    "#Building a for loop to fill in the data for cost per impression\n",
    "for ad in tpf:\n",
    "    tpf['Cost per Impression'] = tpf['Amount Spent (USD)']/tpf['Impressions']"
   ]
  },
  {
   "cell_type": "markdown",
   "metadata": {},
   "source": [
    "## Reformatting our 'Text Dates' into Real 'Date Variables' and Looking at the Day of the Week's impact on 'Cost per Impression'   "
   ]
  },
  {
   "cell_type": "code",
   "execution_count": 25,
   "metadata": {},
   "outputs": [
    {
     "name": "stdout",
     "output_type": "stream",
     "text": [
      "Most expensive day to advertise based on cost per impression\n",
      "------------------------------------------------------------\n",
      "Friday\n",
      "0.004096890719487211\n",
      "------------------------------------------------------------\n",
      "Least expensive day to advertise based on cost per impression\n",
      "-------------------------------------------------------------\n",
      "Saturday\n",
      "0.0026286969333697923\n"
     ]
    }
   ],
   "source": [
    "#First I am making a column to hold the Numeric Day of the Week values\n",
    "#I'm setting it to one so I can multiply into it later\n",
    "tpf[\"Numeric DOW\"] = 1\n",
    "\n",
    "#Here I am iterating through the rows of start date and saving their values in a series dt\n",
    "for date in tpf.iterrows():\n",
    "    dt = tpf[\"Start Date\"]\n",
    "    \n",
    "#Here I am initializing a list \n",
    "datelist = [0]\n",
    "\n",
    "#Now I am applying the above datetime funtion to the series of dates dt and saving them in the datelist\n",
    "for date in dt:\n",
    "    truedt = datetime.strptime(date, \"%m/%d/%y\")\n",
    "    datelist.append( truedt.weekday())\n",
    "    \n",
    "#I ran this to remove the zero at the beginning of the datelist\n",
    "datelist.remove(0) \n",
    "\n",
    "#Finally I am multiplying our dataframe column Numeric DOW by the datelist to have the integer values of the days of the week\n",
    "tpf[\"Numeric DOW\"] = tpf[\"Numeric DOW\"] * datelist\n",
    "\n",
    "#Made a second data table where all the data is grouped by day of the week, allowing for analysis\n",
    "Daycomparison = tpf.groupby([\"Numeric DOW\"]).mean()\n",
    "\n",
    "#Next we are going to grab the maximum and minimum values for 'Cost per Impression' grouped by the day of the week\n",
    "print('Most expensive day to advertise based on cost per impression')\n",
    "print('------------------------------------------------------------')\n",
    "print(calendar.day_name[Daycomparison['Cost per Impression'].idxmax()])\n",
    "print(Daycomparison['Cost per Impression'].max())\n",
    "print('------------------------------------------------------------')\n",
    "print('Least expensive day to advertise based on cost per impression')\n",
    "print('-------------------------------------------------------------')\n",
    "print(calendar.day_name[Daycomparison['Cost per Impression'].idxmin()])\n",
    "print(Daycomparison['Cost per Impression'].min())"
   ]
  },
  {
   "cell_type": "markdown",
   "metadata": {},
   "source": [
    "## Running Correlations to see variables relationships with 'Amount Spent'"
   ]
  },
  {
   "cell_type": "code",
   "execution_count": 26,
   "metadata": {},
   "outputs": [
    {
     "name": "stdout",
     "output_type": "stream",
     "text": [
      "Amount Spent in relation to Reach\n",
      "0.7031238065113846\n",
      "---------------------------------\n",
      "Amount Spent in relation to Frequency\n",
      "0.13020086992866337\n",
      "---------------------------------\n",
      "Amount Spent in relation to Unique Clicks\n",
      "0.8829931774784137\n",
      "----------------------------------\n",
      "Amount Spent in relation to Page Likes\n",
      "0.7576119292180449\n"
     ]
    }
   ],
   "source": [
    "#Next I'm going to start on the correlation analysis\n",
    "\n",
    "print('Amount Spent in relation to Reach')\n",
    "print(tpf[\"Amount Spent (USD)\"].corr(tpf[\"Reach\"]))\n",
    "print('---------------------------------')\n",
    "print('Amount Spent in relation to Frequency')\n",
    "print(tpf[\"Amount Spent (USD)\"].corr(tpf[\"Frequency\"]))\n",
    "print('---------------------------------')\n",
    "print('Amount Spent in relation to Unique Clicks')\n",
    "print(tpf[\"Amount Spent (USD)\"].corr(tpf[\"Unique Clicks\"]))\n",
    "print('----------------------------------')\n",
    "print('Amount Spent in relation to Page Likes')\n",
    "print(tpf[\"Amount Spent (USD)\"].corr(tpf[\"Page Likes\"]))"
   ]
  },
  {
   "cell_type": "markdown",
   "metadata": {},
   "source": [
    "These correlations show that our amount that we are spending on an advertisement is strongly correlated to 'Reach', 'Unique Clicks' and 'Page Likes'. It is very weakly correlated to 'Frequency', however, achieving a value of approximately only 0.13. Our strongest correlation exists between 'Amount Spent' and 'Unique Clicks' which attained a value of approximately 0.88."
   ]
  },
  {
   "cell_type": "markdown",
   "metadata": {},
   "source": [
    "## Building our Basic Multiple Linear Regression Model"
   ]
  },
  {
   "cell_type": "code",
   "execution_count": 27,
   "metadata": {},
   "outputs": [
    {
     "name": "stdout",
     "output_type": "stream",
     "text": [
      "                            OLS Regression Results                            \n",
      "==============================================================================\n",
      "Dep. Variable:          Unique Clicks   R-squared:                       0.557\n",
      "Model:                            OLS   Adj. R-squared:                  0.556\n",
      "Method:                 Least Squares   F-statistic:                     2325.\n",
      "Date:                Fri, 12 Oct 2018   Prob (F-statistic):               0.00\n",
      "Time:                        21:59:48   Log-Likelihood:                -15973.\n",
      "No. Observations:                3705   AIC:                         3.195e+04\n",
      "Df Residuals:                    3703   BIC:                         3.196e+04\n",
      "Df Model:                           2                                         \n",
      "Covariance Type:            nonrobust                                         \n",
      "==============================================================================\n",
      "                 coef    std err          t      P>|t|      [0.025      0.975]\n",
      "------------------------------------------------------------------------------\n",
      "Reach          0.0019   3.12e-05     62.490      0.000       0.002       0.002\n",
      "Frequency      3.6139      0.298     12.109      0.000       3.029       4.199\n",
      "==============================================================================\n",
      "Omnibus:                     5107.616   Durbin-Watson:                   0.803\n",
      "Prob(Omnibus):                  0.000   Jarque-Bera (JB):          5128392.747\n",
      "Skew:                           7.331   Prob(JB):                         0.00\n",
      "Kurtosis:                     184.674   Cond. No.                     9.84e+03\n",
      "==============================================================================\n",
      "\n",
      "Warnings:\n",
      "[1] Standard Errors assume that the covariance matrix of the errors is correctly specified.\n",
      "[2] The condition number is large, 9.84e+03. This might indicate that there are\n",
      "strong multicollinearity or other numerical problems.\n"
     ]
    }
   ],
   "source": [
    "#Now we will set up the variables to be used in the regression\n",
    "\"\"\"I did not add a constant to the regression equation, as I did not feel it was applicable to this situation. If there \n",
    "is zero reach and zero frequency, I'd also expect there to be zero unique clicks.\"\"\"\n",
    "\n",
    "#Here we are assigning our X and Y variables\n",
    "X = tpf[[\"Reach\", \"Frequency\"]]\n",
    "Y = tpf[\"Unique Clicks\"]\n",
    "\n",
    "#Now we will set up the actual model\n",
    "MLR = sm.OLS(Y, X).fit()\n",
    "predictions = MLR.predict(X)\n",
    "\n",
    "print(MLR.summary())"
   ]
  },
  {
   "cell_type": "markdown",
   "metadata": {},
   "source": [
    "Looking at this regression output, we can see that both predictors are heavily significant. Looking at the coefficients, we can see that 'Frequency' seems to be the much more powerful predictor. It should be noted that the high standard error on reach implies that multicollinearity exists in the model, pointing to the fact that a simple linear regression with just 'Frequency' might be better to model this relationship. That being said, multicollinearity is a common occurrence in advertising data."
   ]
  },
  {
   "cell_type": "code",
   "execution_count": null,
   "metadata": {},
   "outputs": [],
   "source": []
  }
 ],
 "metadata": {
  "kernelspec": {
   "display_name": "Python 3",
   "language": "python",
   "name": "python3"
  },
  "language_info": {
   "codemirror_mode": {
    "name": "ipython",
    "version": 3
   },
   "file_extension": ".py",
   "mimetype": "text/x-python",
   "name": "python",
   "nbconvert_exporter": "python",
   "pygments_lexer": "ipython3",
   "version": "3.6.5"
  }
 },
 "nbformat": 4,
 "nbformat_minor": 2
}
