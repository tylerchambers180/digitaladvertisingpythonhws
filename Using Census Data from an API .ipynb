{
 "cells": [
  {
   "cell_type": "markdown",
   "metadata": {},
   "source": [
    "# Getting Geographical Targeting Insights Using Census Data from CensusReporter's API \n",
    "## By Tyler Chambers\n",
    "### Created for APRD6432: Digital Advertising"
   ]
  },
  {
   "cell_type": "markdown",
   "metadata": {},
   "source": [
    "## Project Summary"
   ]
  },
  {
   "cell_type": "markdown",
   "metadata": {},
   "source": [
    "We have been tasked with helping a Business decide what metropolitan area it should build its next retail location in. Their most recent marketing research report shows that their product is most popular with people aged 18-34, whom have a yearly household income of $50,000-75,000 a year, and whom are Hispanic in background. We can help advise this Business on where they might want to relocate by using census data to find the metropolitan areas with the highest numbers of people with this demographic profile. Using a file with 382 US metropolitan codes, we will call CensusReporter's API to get and analyze this data. "
   ]
  },
  {
   "cell_type": "markdown",
   "metadata": {},
   "source": [
    "# Setting up our environment for the API and data collection"
   ]
  },
  {
   "cell_type": "code",
   "execution_count": 12,
   "metadata": {},
   "outputs": [
    {
     "name": "stdout",
     "output_type": "stream",
     "text": [
      "[10180, 10420, 10500, 10540, 10580]\n"
     ]
    }
   ],
   "source": [
    "#importing packages for later use\n",
    "import pandas as pd\n",
    "import requests\n",
    "import json\n",
    "from time import sleep\n",
    "\n",
    "#Importing the CSV file, you can download it also from my github \n",
    "Filename = 'msas.csv'\n",
    "#Putting the csv data in a dataframe msas\n",
    "msas = pd.read_csv(Filename)\n",
    "\n",
    "#Making a single Table IDs for the two requests.\n",
    "#For some reason the Hispanic population data did not like to be pulled at same time, so we will handle it separately\n",
    "tableids = ['B01001','B19001'] \n",
    "\n",
    "#Reformatting list to string to properly feed into the API request URL\n",
    "tableidstring = ','.join(tableids)\n",
    "\n",
    "#Pulling the geoids from our dataframe into a list\n",
    "geoid = msas['CBSA']\n",
    "geoid = geoid.tolist()\n",
    "print(geoid[0:5])\n",
    "\n",
    "#Creating request URL\n",
    "##requesturl = 'http://api.censusreporter.org/1.0/data/show/latest?table_ids=%s&geo_ids=31000US%s' % (tableidstring, geoid)\n",
    "\n",
    "#Creating DataFrame to hold Census Data\n",
    "metrodata = pd.read_csv(Filename)\n",
    "metrodata['Age 18-34'] = 1\n",
    "metrodata['Age Percent of Max'] = float(1)\n",
    "metrodata['Percentage of Population that is Hispanic'] = 1\n",
    "metrodata['Hispanic Percent of Max'] = float(1)\n",
    "metrodata['HH Income 50k-74k'] = 1\n",
    "metrodata['HH Income Percent of Max'] = float(1)\n",
    "metrodata['Average Percentage'] = float(0)\n",
    "\n",
    "#Creating lists to hold data from for loop\n",
    "totalagelist=[0]\n",
    "hispanicpopulationlist=[0]\n",
    "totalHHlist=[0]"
   ]
  },
  {
   "cell_type": "markdown",
   "metadata": {},
   "source": [
    "## Creating the two functions that will run our API request"
   ]
  },
  {
   "cell_type": "code",
   "execution_count": 13,
   "metadata": {},
   "outputs": [],
   "source": [
    "#Developing for loop to run our API request at scale for age groups\n",
    "#Area responds to actual geocode, needed to wrap str() around it to make it a string value in the individual data requests\n",
    "#Sleep was added to not overload the APIs servers\n",
    "#To extract data from JSON, I used a series of get commands to fetch and hold the next dictionary key\n",
    "# M# and F# correspond to specific population values for male and female, had to snag several individual data points and sum them\n",
    "def getdataageHH(geoid):\n",
    "    for area in geoid:\n",
    "        requesturl = 'http://api.censusreporter.org/1.0/data/show/latest?table_ids=%s&geo_ids=31000US%s' % (tableidstring, area)\n",
    "        loadedjson = requests.get(requesturl)\n",
    "        parsedjson = json.loads(loadedjson.text)\n",
    "        M18 = parsedjson.get('data', {}).get('31000US' + str(area), {}).get('B01001', {}).get('estimate', {}).get('B01001007')\n",
    "        M20 = parsedjson.get('data', {}).get('31000US' + str(area), {}).get('B01001', {}).get('estimate', {}).get('B01001008')\n",
    "        M21 = parsedjson.get('data', {}).get('31000US' + str(area), {}).get('B01001', {}).get('estimate', {}).get('B01001009')\n",
    "        M24 = parsedjson.get('data', {}).get('31000US' + str(area), {}).get('B01001', {}).get('estimate', {}).get('B01001010')\n",
    "        M29 = parsedjson.get('data', {}).get('31000US' + str(area), {}).get('B01001', {}).get('estimate', {}).get('B01001011')\n",
    "        M34 = parsedjson.get('data', {}).get('31000US' + str(area), {}).get('B01001', {}).get('estimate', {}).get('B01001012')\n",
    "        F18 = parsedjson.get('data', {}).get('31000US' + str(area), {}).get('B01001', {}).get('estimate', {}).get('B01001031')\n",
    "        F20 = parsedjson.get('data', {}).get('31000US' + str(area), {}).get('B01001', {}).get('estimate', {}).get('B01001032')\n",
    "        F21 = parsedjson.get('data', {}).get('31000US' + str(area), {}).get('B01001', {}).get('estimate', {}).get('B01001033')\n",
    "        F24 = parsedjson.get('data', {}).get('31000US' + str(area), {}).get('B01001', {}).get('estimate', {}).get('B01001034')\n",
    "        F29 = parsedjson.get('data', {}).get('31000US' + str(area), {}).get('B01001', {}).get('estimate', {}).get('B01001035')\n",
    "        F34 = parsedjson.get('data', {}).get('31000US' + str(area), {}).get('B01001', {}).get('estimate', {}).get('B01001036')\n",
    "        totalage = M18+M20+M21+M24+M29+M34+F18+F20+F21+F24+F29+F34\n",
    "        totalagelist.append(totalage)\n",
    "        HH50 = parsedjson.get('data', {}).get('31000US' + str(area), {}).get('B19001', {}).get('estimate', {}).get('B19001011')\n",
    "        HH75 = parsedjson.get('data', {}).get('31000US' + str(area), {}).get('B19001', {}).get('estimate', {}).get('B19001012')\n",
    "        totalHH = HH50 + HH75\n",
    "        totalHHlist.append(totalHH)\n",
    "        sleep(1)\n",
    "\n",
    "#Very similar function to the one above, except for only the Hispanic population data       \n",
    "def getdatahisp(geoid):\n",
    "    for area in geoid:\n",
    "        requesturl = 'https://api.censusreporter.org/1.0/data/show/latest?table_ids=B03002&geo_ids=31000US%s' % (area)\n",
    "        loadedjson = requests.get(requesturl)\n",
    "        parsedjson = json.loads(loadedjson.text)\n",
    "        hispanic = parsedjson.get('data', {}).get('31000US' + str(area), {}).get('B03002', {}).get('estimate', {}).get('B03002012')\n",
    "        hispanicpopulationlist.append(hispanic)\n",
    "        sleep(1)"
   ]
  },
  {
   "cell_type": "markdown",
   "metadata": {},
   "source": [
    "## Running our two functions to call the API data"
   ]
  },
  {
   "cell_type": "code",
   "execution_count": 14,
   "metadata": {},
   "outputs": [],
   "source": [
    "#Running my data subsets against the API    \n",
    "getdataageHH(geoid)\n",
    "getdatahisp(geoid)"
   ]
  },
  {
   "cell_type": "markdown",
   "metadata": {},
   "source": [
    "## Creating and Analyzing our Dataframe using Pandas"
   ]
  },
  {
   "cell_type": "code",
   "execution_count": 15,
   "metadata": {},
   "outputs": [
    {
     "name": "stdout",
     "output_type": "stream",
     "text": [
      "\n",
      "Descriptives for API data\n",
      "--------------------------\n",
      "count    3.820000e+02\n",
      "mean     1.734517e+05\n",
      "std      3.983411e+05\n",
      "min      1.121400e+04\n",
      "25%      3.295125e+04\n",
      "50%      6.105500e+04\n",
      "75%      1.324970e+05\n",
      "max      4.806939e+06\n",
      "Name: Age 18-34, dtype: float64\n",
      "count    3.820000e+02\n",
      "mean     1.435339e+05\n",
      "std      5.069093e+05\n",
      "min      9.170000e+02\n",
      "25%      6.926000e+03\n",
      "50%      2.270050e+04\n",
      "75%      8.114275e+04\n",
      "max      6.031492e+06\n",
      "Name: Percentage of Population that is Hispanic, dtype: float64\n",
      "count    3.820000e+02\n",
      "mean     4.665724e+04\n",
      "std      9.359307e+04\n",
      "min      4.042000e+03\n",
      "25%      9.957250e+03\n",
      "50%      1.673200e+04\n",
      "75%      3.997875e+04\n",
      "max      1.038188e+06\n",
      "Name: HH Income 50k-74k, dtype: float64\n"
     ]
    }
   ],
   "source": [
    "#Fix lists by removing 0 placeholder entry\n",
    "totalagelist.remove(0)\n",
    "hispanicpopulationlist.remove(0)\n",
    "totalHHlist.remove(0)\n",
    "\n",
    "#Putting lists into the dataframe\n",
    "metrodata['Age 18-34'] = metrodata['Age 18-34'] * totalagelist\n",
    "metrodata['Percentage of Population that is Hispanic'] = metrodata['Percentage of Population that is Hispanic'] * hispanicpopulationlist\n",
    "metrodata['HH Income 50k-74k'] = metrodata['HH Income 50k-74k'] * totalHHlist\n",
    "\n",
    "#Getting descriptives for the dataframe\n",
    "print('\\nDescriptives for API data')\n",
    "print('--------------------------')\n",
    "print(metrodata['Age 18-34'].describe())\n",
    "print(metrodata['Percentage of Population that is Hispanic'].describe())\n",
    "print(metrodata['HH Income 50k-74k'].describe())\n",
    "\n",
    "#Storing maximum values for each \n",
    "maxage = metrodata['Age 18-34'].max()\n",
    "maxhispanic = metrodata['Percentage of Population that is Hispanic'].max()\n",
    "maxHH = metrodata['HH Income 50k-74k'].max()\n",
    "\n",
    "#Filling in percentage column rows\n",
    "metrodata['Age Percent of Max'] = metrodata['Age 18-34']/maxage\n",
    "metrodata['Hispanic Percent of Max'] = metrodata['Percentage of Population that is Hispanic']/maxhispanic\n",
    "metrodata['HH Income Percent of Max'] = metrodata['HH Income 50k-74k']/maxHH\n",
    "metrodata['Average Percentage'] = (metrodata['Age Percent of Max']+metrodata['Hispanic Percent of Max']+metrodata['HH Income Percent of Max'])/3\n"
   ]
  },
  {
   "cell_type": "markdown",
   "metadata": {},
   "source": [
    "## Finding Markets that Best Fit each of our Business Criteria"
   ]
  },
  {
   "cell_type": "code",
   "execution_count": 16,
   "metadata": {},
   "outputs": [
    {
     "name": "stdout",
     "output_type": "stream",
     "text": [
      "\n",
      "#Q1: Highest Population of People with a Household Income 50k-74k\n",
      "=================================================\n",
      "New York-Newark-Jersey City, NY-NJ-PA\n",
      "1038188.0\n",
      "\n",
      "#Q2: Highest Population of 18-34 Year-olds\n",
      "===========================================\n",
      "New York-Newark-Jersey City, NY-NJ-PA\n",
      "4806939.0\n",
      "\n",
      "#Q3: Highest Population of peoples of Hispanic Background\n",
      "==========================================================\n",
      "Los Angeles-Long Beach-Anaheim, CA\n",
      "1038188.0\n",
      "\n",
      "#Q4: Highest Percentage of Maximum Values Across All Categories\n",
      "=========================================================\n",
      "New York-Newark-Jersey City, NY-NJ-PA\n",
      "0.9426843308421864\n"
     ]
    }
   ],
   "source": [
    "print('\\n#Q1: Highest Population of People with a Household Income 50k-74k')\n",
    "print('=================================================')\n",
    "print(metrodata['NAME'][metrodata['HH Income 50k-74k'].idxmax()])\n",
    "print(maxHH)\n",
    "\n",
    "print('\\n#Q2: Highest Population of 18-34 Year-olds')\n",
    "print('===========================================')\n",
    "print(metrodata['NAME'][metrodata['Age 18-34'].idxmax()])\n",
    "print(maxage)\n",
    "\n",
    "print('\\n#Q3: Highest Population of peoples of Hispanic Background')\n",
    "print('==========================================================')\n",
    "print(metrodata['NAME'][metrodata['Percentage of Population that is Hispanic'].idxmax()])\n",
    "print(maxHH)\n",
    "\n",
    "print('\\n#Q4: Highest Percentage of Maximum Values Across All Categories')\n",
    "print('=========================================================')\n",
    "print(metrodata['NAME'][metrodata['Average Percentage'].idxmax()])\n",
    "print(metrodata['Average Percentage'].max())"
   ]
  },
  {
   "cell_type": "code",
   "execution_count": null,
   "metadata": {},
   "outputs": [],
   "source": []
  }
 ],
 "metadata": {
  "kernelspec": {
   "display_name": "Python 3",
   "language": "python",
   "name": "python3"
  },
  "language_info": {
   "codemirror_mode": {
    "name": "ipython",
    "version": 3
   },
   "file_extension": ".py",
   "mimetype": "text/x-python",
   "name": "python",
   "nbconvert_exporter": "python",
   "pygments_lexer": "ipython3",
   "version": "3.6.5"
  }
 },
 "nbformat": 4,
 "nbformat_minor": 2
}
